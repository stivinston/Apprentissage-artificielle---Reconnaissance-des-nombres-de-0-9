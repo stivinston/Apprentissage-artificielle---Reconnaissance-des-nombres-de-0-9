{
 "cells": [
  {
   "cell_type": "code",
   "execution_count": 1,
   "id": "9325d9af-1785-4be7-a22a-12a4fb95f02d",
   "metadata": {},
   "outputs": [],
   "source": [
    "import requests"
   ]
  },
  {
   "cell_type": "code",
   "execution_count": 2,
   "id": "a82f8a28-1e46-4ba1-954e-8302ab493999",
   "metadata": {},
   "outputs": [],
   "source": [
    "url = \"http://127.0.0.1:8000/model_call/\"\n",
    "file_path = \"0 Abadouma 1.wav\""
   ]
  },
  {
   "cell_type": "code",
   "execution_count": 15,
   "id": "aa2c8e55-979b-4ff3-a92e-56cdd1932e8b",
   "metadata": {},
   "outputs": [],
   "source": [
    "with open(file_path, \"rb\") as f:\n",
    "    files = {\"file\": (file_path, f, \"audio/wav\")}\n",
    "    with requests.Session() as session:\n",
    "        response= session.post(url, files=files)\n",
    "        response.raise_for_status()"
   ]
  },
  {
   "cell_type": "code",
   "execution_count": 16,
   "id": "5bf0331a-a147-4593-9b48-58c6ed1acbd4",
   "metadata": {},
   "outputs": [],
   "source": [
    "result=response.json()"
   ]
  },
  {
   "cell_type": "code",
   "execution_count": 17,
   "id": "db0e0df2-5781-4a52-9e0b-3dec441dba3b",
   "metadata": {},
   "outputs": [
    {
     "data": {
      "text/plain": [
       "'2'"
      ]
     },
     "execution_count": 17,
     "metadata": {},
     "output_type": "execute_result"
    }
   ],
   "source": [
    "result['result']"
   ]
  },
  {
   "cell_type": "code",
   "execution_count": null,
   "id": "a3d1dbbf-395c-4b3f-ae4c-d328b427f778",
   "metadata": {},
   "outputs": [],
   "source": []
  }
 ],
 "metadata": {
  "kernelspec": {
   "display_name": "Python 3 (ipykernel)",
   "language": "python",
   "name": "python3"
  },
  "language_info": {
   "codemirror_mode": {
    "name": "ipython",
    "version": 3
   },
   "file_extension": ".py",
   "mimetype": "text/x-python",
   "name": "python",
   "nbconvert_exporter": "python",
   "pygments_lexer": "ipython3",
   "version": "3.12.3"
  }
 },
 "nbformat": 4,
 "nbformat_minor": 5
}
